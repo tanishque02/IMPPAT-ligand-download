{
 "cells": [
  {
   "cell_type": "code",
   "execution_count": 10,
   "metadata": {},
   "outputs": [],
   "source": [
    "import pandas as pd\n",
    "import subprocess\n",
    "import os"
   ]
  },
  {
   "cell_type": "code",
   "execution_count": null,
   "metadata": {},
   "outputs": [],
   "source": [
    "list = os.listdir()\n",
    "xl = []\n",
    "for i in list:\n",
    "    if i[-5:] == '.xlsx':\n",
    "        xl.append(i)\n",
    "xl"
   ]
  },
  {
   "cell_type": "code",
   "execution_count": null,
   "metadata": {},
   "outputs": [],
   "source": [
    "for j in xl:\n",
    "    df = pd.read_excel(j)\n",
    "    identifiers = df[\"IMPPAT Phytochemical identifier\"]\n",
    "    base_url = \"https://cb.imsc.res.in/imppat/images/3D/SDF/\"\n",
    "\n",
    "    for i in identifiers:\n",
    "        url = base_url + f\"{i}_3D.sdf\"\n",
    "        command = [\"curl\",\"-o\", i+\".sdf\", url]\n",
    "        print(command)\n",
    "    \n",
    "        try:\n",
    "            subprocess.run(command, check=True)\n",
    "            print(f\"Downloaded {i}_3D.sdf successfully.\")\n",
    "        except subprocess.CalledProcessError as e:\n",
    "            print(f\"Error downloading {i}_3D.sdf: {e}\")\n",
    "    "
   ]
  }
 ],
 "metadata": {
  "kernelspec": {
   "display_name": "base",
   "language": "python",
   "name": "python3"
  },
  "language_info": {
   "codemirror_mode": {
    "name": "ipython",
    "version": 3
   },
   "file_extension": ".py",
   "mimetype": "text/x-python",
   "name": "python",
   "nbconvert_exporter": "python",
   "pygments_lexer": "ipython3",
   "version": "3.9.13"
  },
  "orig_nbformat": 4
 },
 "nbformat": 4,
 "nbformat_minor": 2
}
